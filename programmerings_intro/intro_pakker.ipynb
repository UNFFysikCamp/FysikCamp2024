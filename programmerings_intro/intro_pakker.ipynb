{
 "cells": [
  {
   "cell_type": "markdown",
   "metadata": {},
   "source": [
    "# Indroduktion til Pakker\n",
    "\n",
    "Her er en \"kort\" introduktion til de pakker I kommer til at bruge"
   ]
  },
  {
   "cell_type": "markdown",
   "metadata": {},
   "source": [
    "## Numpy\n",
    "\n",
    "Numpy er en super brugbar pakke til at lave numeriske ting I python, den måde du henter den er ved `import`"
   ]
  },
  {
   "cell_type": "code",
   "execution_count": 7,
   "metadata": {},
   "outputs": [],
   "source": [
    "import numpy as np"
   ]
  },
  {
   "cell_type": "markdown",
   "metadata": {},
   "source": [
    "Her bruger vi as til at funktioner fra numpy kan skrive som `np.array` istedet fro "
   ]
  },
  {
   "cell_type": "markdown",
   "metadata": {},
   "source": [
    "En af de enssentialle ting I numpy er `array`, det minder lidt om en liste, men de har en fast længde og er hurtigere at lave operationer på.\n",
    "\n",
    "Du laver et array fra en liste ved at bruge en liste så f.eks."
   ]
  },
  {
   "cell_type": "code",
   "execution_count": 8,
   "metadata": {},
   "outputs": [
    {
     "data": {
      "text/plain": [
       "array([1, 2, 3, 4, 5])"
      ]
     },
     "execution_count": 8,
     "metadata": {},
     "output_type": "execute_result"
    }
   ],
   "source": [
    "x = [1,2,3,4,5]\n",
    "x = np.array(x)\n",
    "x"
   ]
  },
  {
   "cell_type": "markdown",
   "metadata": {},
   "source": [
    "Så f.eks. hvis vi gerne vil have at alle tallene bliver ganget med 4 kan vi skrive"
   ]
  },
  {
   "cell_type": "code",
   "execution_count": 9,
   "metadata": {},
   "outputs": [
    {
     "data": {
      "text/plain": [
       "array([ 4,  8, 12, 16, 20])"
      ]
     },
     "execution_count": 9,
     "metadata": {},
     "output_type": "execute_result"
    }
   ],
   "source": [
    "x*4"
   ]
  },
  {
   "cell_type": "markdown",
   "metadata": {},
   "source": [
    "De to store begrænsninger er at du kun kan have en type i et array og det er statisk, så længden kan ikke ændres"
   ]
  },
  {
   "cell_type": "markdown",
   "metadata": {},
   "source": [
    "Så hvis vi vil lave x længdere kan man bruge `np.append`, men det er meget langsomt fordi den laver et nyt array hver gang, her er der et eksemple på foreskellen i tid"
   ]
  },
  {
   "cell_type": "code",
   "execution_count": 10,
   "metadata": {},
   "outputs": [],
   "source": [
    "x = np.array([])\n",
    "for i in range(100_000):\n",
    "    x = np.append(x, i)"
   ]
  },
  {
   "cell_type": "code",
   "execution_count": 11,
   "metadata": {},
   "outputs": [],
   "source": [
    "arr = []\n",
    "for i in range(100_000):\n",
    "    arr.append(i)"
   ]
  },
  {
   "cell_type": "markdown",
   "metadata": {},
   "source": [
    "Derfor burde du enten bruge append på listen, eller skrive til `array`et direkte, som du kan se et eksemple på her"
   ]
  },
  {
   "cell_type": "code",
   "execution_count": 12,
   "metadata": {},
   "outputs": [],
   "source": [
    "x = np.zeros(100_000)\n",
    "for i in range(100_000):\n",
    "    x[i] = i"
   ]
  },
  {
   "cell_type": "markdown",
   "metadata": {},
   "source": [
    "#### Opgaver\n",
    "\n",
    "Lav et array med alle tal mellem 5 og 800"
   ]
  },
  {
   "cell_type": "code",
   "execution_count": null,
   "metadata": {},
   "outputs": [],
   "source": []
  },
  {
   "cell_type": "markdown",
   "metadata": {},
   "source": [
    "Divider dit array med 5"
   ]
  },
  {
   "cell_type": "code",
   "execution_count": null,
   "metadata": {},
   "outputs": [],
   "source": []
  },
  {
   "cell_type": "markdown",
   "metadata": {},
   "source": [
    "Tag summen af tallene"
   ]
  },
  {
   "cell_type": "code",
   "execution_count": null,
   "metadata": {},
   "outputs": [],
   "source": []
  },
  {
   "cell_type": "markdown",
   "metadata": {},
   "source": [
    "Lav et nyt array, med 20 navne brug f.eks. arrangøre eller andre deltagere og prøv at sortere den "
   ]
  },
  {
   "cell_type": "code",
   "execution_count": null,
   "metadata": {},
   "outputs": [],
   "source": []
  },
  {
   "cell_type": "markdown",
   "metadata": {},
   "source": [
    "Lav et array med 2 dimensioner"
   ]
  },
  {
   "cell_type": "code",
   "execution_count": 13,
   "metadata": {},
   "outputs": [],
   "source": [
    "x = np.array([[1,2,3],[4,5,6]])"
   ]
  },
  {
   "cell_type": "markdown",
   "metadata": {},
   "source": [
    "Hent den første dimension og print den, derefter gør det sammen for den anden"
   ]
  },
  {
   "cell_type": "code",
   "execution_count": null,
   "metadata": {},
   "outputs": [],
   "source": []
  },
  {
   "cell_type": "markdown",
   "metadata": {},
   "source": [
    "### Array forsat\n",
    "\n",
    "Numpy har mange måder at lave et array, det kunne f.eks. være `np.array`, `np.arange`, `np.linspace`, `ǹp.ones` og `np.zeros`. Den måde `np.arange` virker på er at den laver et array fra start til slut hvor den stiger med increment vær gang"
   ]
  },
  {
   "cell_type": "code",
   "execution_count": 14,
   "metadata": {},
   "outputs": [
    {
     "data": {
      "text/plain": [
       "array([  0,  50, 100, 150, 200, 250, 300, 350, 400, 450, 500, 550, 600,\n",
       "       650, 700, 750, 800, 850, 900, 950])"
      ]
     },
     "execution_count": 14,
     "metadata": {},
     "output_type": "execute_result"
    }
   ],
   "source": [
    "start = 0\n",
    "slut = 1000\n",
    "increment = 50\n",
    "\n",
    "np.arange(start, slut, increment)"
   ]
  },
  {
   "cell_type": "markdown",
   "metadata": {},
   "source": [
    "Så er det `np.linspace` gør er ligende `np.arange` den tager bare antal af punkter istedet for hvor meget den stiger så"
   ]
  },
  {
   "cell_type": "code",
   "execution_count": 15,
   "metadata": {},
   "outputs": [
    {
     "data": {
      "text/plain": [
       "array([   0.        ,   10.1010101 ,   20.2020202 ,   30.3030303 ,\n",
       "         40.4040404 ,   50.50505051,   60.60606061,   70.70707071,\n",
       "         80.80808081,   90.90909091,  101.01010101,  111.11111111,\n",
       "        121.21212121,  131.31313131,  141.41414141,  151.51515152,\n",
       "        161.61616162,  171.71717172,  181.81818182,  191.91919192,\n",
       "        202.02020202,  212.12121212,  222.22222222,  232.32323232,\n",
       "        242.42424242,  252.52525253,  262.62626263,  272.72727273,\n",
       "        282.82828283,  292.92929293,  303.03030303,  313.13131313,\n",
       "        323.23232323,  333.33333333,  343.43434343,  353.53535354,\n",
       "        363.63636364,  373.73737374,  383.83838384,  393.93939394,\n",
       "        404.04040404,  414.14141414,  424.24242424,  434.34343434,\n",
       "        444.44444444,  454.54545455,  464.64646465,  474.74747475,\n",
       "        484.84848485,  494.94949495,  505.05050505,  515.15151515,\n",
       "        525.25252525,  535.35353535,  545.45454545,  555.55555556,\n",
       "        565.65656566,  575.75757576,  585.85858586,  595.95959596,\n",
       "        606.06060606,  616.16161616,  626.26262626,  636.36363636,\n",
       "        646.46464646,  656.56565657,  666.66666667,  676.76767677,\n",
       "        686.86868687,  696.96969697,  707.07070707,  717.17171717,\n",
       "        727.27272727,  737.37373737,  747.47474747,  757.57575758,\n",
       "        767.67676768,  777.77777778,  787.87878788,  797.97979798,\n",
       "        808.08080808,  818.18181818,  828.28282828,  838.38383838,\n",
       "        848.48484848,  858.58585859,  868.68686869,  878.78787879,\n",
       "        888.88888889,  898.98989899,  909.09090909,  919.19191919,\n",
       "        929.29292929,  939.39393939,  949.49494949,  959.5959596 ,\n",
       "        969.6969697 ,  979.7979798 ,  989.8989899 , 1000.        ])"
      ]
     },
     "execution_count": 15,
     "metadata": {},
     "output_type": "execute_result"
    }
   ],
   "source": [
    "antal = 100\n",
    "np.linspace(start, slut, antal)"
   ]
  },
  {
   "cell_type": "markdown",
   "metadata": {},
   "source": [
    "`np.ones` og `np.zeroes` lavet et array med henholdsvis et taller eller nuller i en given størrelse"
   ]
  },
  {
   "cell_type": "code",
   "execution_count": 16,
   "metadata": {},
   "outputs": [
    {
     "data": {
      "text/plain": [
       "array([1., 1., 1., 1., 1., 1., 1., 1., 1., 1., 1., 1., 1., 1., 1., 1., 1.,\n",
       "       1., 1., 1., 1., 1., 1., 1., 1., 1., 1., 1., 1., 1., 1., 1., 1., 1.,\n",
       "       1., 1., 1., 1., 1., 1., 1., 1., 1., 1., 1., 1., 1., 1., 1., 1., 1.,\n",
       "       1., 1., 1., 1., 1., 1., 1., 1., 1., 1., 1., 1., 1., 1., 1., 1., 1.,\n",
       "       1., 1., 1., 1., 1., 1., 1., 1., 1., 1., 1., 1., 1., 1., 1., 1., 1.,\n",
       "       1., 1., 1., 1., 1., 1., 1., 1., 1., 1., 1., 1., 1., 1., 1.])"
      ]
     },
     "execution_count": 16,
     "metadata": {},
     "output_type": "execute_result"
    }
   ],
   "source": [
    "np.ones(antal)"
   ]
  },
  {
   "cell_type": "markdown",
   "metadata": {},
   "source": [
    "#### Opgaver"
   ]
  },
  {
   "cell_type": "markdown",
   "metadata": {},
   "source": [
    "Lav et array med alle lige tal mellem 0 og 200"
   ]
  },
  {
   "cell_type": "code",
   "execution_count": null,
   "metadata": {},
   "outputs": [],
   "source": []
  },
  {
   "cell_type": "markdown",
   "metadata": {},
   "source": [
    "Lav et array som har 1000 tal mellem 0 og 1"
   ]
  },
  {
   "cell_type": "code",
   "execution_count": null,
   "metadata": {},
   "outputs": [],
   "source": []
  },
  {
   "cell_type": "markdown",
   "metadata": {},
   "source": [
    "Lav et array med 100, to-taller"
   ]
  },
  {
   "cell_type": "code",
   "execution_count": null,
   "metadata": {},
   "outputs": [],
   "source": []
  },
  {
   "cell_type": "markdown",
   "metadata": {},
   "source": [
    "Lav et array som går fra 1 ned til 0, hvor der er 100 tal"
   ]
  },
  {
   "cell_type": "code",
   "execution_count": null,
   "metadata": {},
   "outputs": [],
   "source": []
  },
  {
   "cell_type": "markdown",
   "metadata": {},
   "source": [
    "Lav et array der går fra 100 og falder med 1 indtil 0"
   ]
  },
  {
   "cell_type": "code",
   "execution_count": null,
   "metadata": {},
   "outputs": [],
   "source": []
  },
  {
   "cell_type": "markdown",
   "metadata": {},
   "source": [
    "## Matplotlib"
   ]
  },
  {
   "cell_type": "code",
   "execution_count": 17,
   "metadata": {},
   "outputs": [],
   "source": [
    "import matplotlib.pyplot as plt"
   ]
  },
  {
   "cell_type": "markdown",
   "metadata": {},
   "source": [
    "Matplot er rigtig godt til at vise data, den generalle måde at ved at bruge `plt.plot`"
   ]
  },
  {
   "cell_type": "code",
   "execution_count": 23,
   "metadata": {},
   "outputs": [
    {
     "data": {
      "text/plain": [
       "[<matplotlib.lines.Line2D at 0x7fd068c9a890>]"
      ]
     },
     "execution_count": 23,
     "metadata": {},
     "output_type": "execute_result"
    },
    {
     "data": {
      "image/png": "[encoded data removed]",
      "text/plain": [
       "<Figure size 640x480 with 1 Axes>"
      ]
     },
     "metadata": {},
     "output_type": "display_data"
    }
   ],
   "source": [
    "x = np.random.rand(10)\n",
    "y = 2*np.random.rand(10)\n",
    "plt.plot(x, y)"
   ]
  },
  {
   "cell_type": "markdown",
   "metadata": {},
   "source": [
    "Men så hvis vi gerne vil have punkter skriver vi `'o'` efter"
   ]
  },
  {
   "cell_type": "code",
   "execution_count": 24,
   "metadata": {},
   "outputs": [
    {
     "data": {
      "text/plain": [
       "[<matplotlib.lines.Line2D at 0x7fd0688e74d0>]"
      ]
     },
     "execution_count": 24,
     "metadata": {},
     "output_type": "execute_result"
    },
    {
     "data": {
      "image/png": "[encoded data removed]",
      "text/plain": [
       "<Figure size 640x480 with 1 Axes>"
      ]
     },
     "metadata": {},
     "output_type": "display_data"
    }
   ],
   "source": [
    "plt.plot(x, y, 'o')"
   ]
  },
  {
   "cell_type": "markdown",
   "metadata": {},
   "source": [
    "Så hvis vi gerne vil have et grid, akse titler, eller legend skal du"
   ]
  },
  {
   "cell_type": "code",
   "execution_count": 27,
   "metadata": {},
   "outputs": [
    {
     "data": {
      "image/png": "[encoded data removed]",
      "text/plain": [
       "<Figure size 640x480 with 1 Axes>"
      ]
     },
     "metadata": {},
     "output_type": "display_data"
    }
   ],
   "source": [
    "plt.plot(x, y, 'o', label='Legend')\n",
    "plt.legend()\n",
    "plt.title('Test title')\n",
    "plt.xlabel('X aksen')\n",
    "plt.ylabel('Y aksen')\n",
    "plt.grid()"
   ]
  },
  {
   "cell_type": "markdown",
   "metadata": {},
   "source": [
    "Så det du skal tage væk fra er at pæne grafer tager tid, og kan være langtrukkende."
   ]
  },
  {
   "cell_type": "markdown",
   "metadata": {},
   "source": [
    "#### Opgaver"
   ]
  },
  {
   "cell_type": "markdown",
   "metadata": {},
   "source": [
    "Lav et plot for to arrays, et fra 0 til 10 med 100 punkter og et fra 0 til 1 med 100 punkter"
   ]
  },
  {
   "cell_type": "code",
   "execution_count": null,
   "metadata": {},
   "outputs": [],
   "source": []
  },
  {
   "cell_type": "markdown",
   "metadata": {},
   "source": [
    "Lav akse titler på grafen"
   ]
  },
  {
   "cell_type": "code",
   "execution_count": null,
   "metadata": {},
   "outputs": [],
   "source": []
  },
  {
   "cell_type": "markdown",
   "metadata": {},
   "source": [
    "Lav legends på grafen"
   ]
  },
  {
   "cell_type": "code",
   "execution_count": null,
   "metadata": {},
   "outputs": [],
   "source": []
  },
  {
   "cell_type": "markdown",
   "metadata": {},
   "source": [
    "Lav endnu et set 'data' som har er x punkter mellem 0 og 10 med en stining på 0.015 og en y akse mellem 0 og 1 med en stining på 0.0015, og plot det i samme graf som den anden. (Hint: prøv med plot to gang )"
   ]
  },
  {
   "cell_type": "code",
   "execution_count": null,
   "metadata": {},
   "outputs": [],
   "source": []
  },
  {
   "cell_type": "markdown",
   "metadata": {},
   "source": [
    "Prøv at sætte legends på, og bruge color til at ændre farven, husk det er engleske navne."
   ]
  },
  {
   "cell_type": "code",
   "execution_count": null,
   "metadata": {},
   "outputs": [],
   "source": []
  },
  {
   "cell_type": "markdown",
   "metadata": {},
   "source": [
    "## Curve_fit\n"
   ]
  },
  {
   "cell_type": "code",
   "execution_count": 28,
   "metadata": {},
   "outputs": [],
   "source": [
    "from scipy.optimize import curve_fit"
   ]
  },
  {
   "cell_type": "markdown",
   "metadata": {},
   "source": [
    "For at finde fit for en funktion i python bruger vi `curve_fit` fra scipy. Den måde det virker på er at vi definere en funktion som tager `x` som det første argument, og dine parameter som de andre"
   ]
  },
  {
   "cell_type": "code",
   "execution_count": 37,
   "metadata": {},
   "outputs": [],
   "source": [
    "def linear(x, a, b):\n",
    "    return a*x + b\n",
    "\n",
    "x = np.random.rand(100)\n",
    "y = (np.random.rand(100)+1)*x +2"
   ]
  },
  {
   "cell_type": "markdown",
   "metadata": {},
   "source": [
    "Nu bruger vi `curve_fit`, så først skriver vi funktionen in også dataen, så skriver p0 for at give et start gæt"
   ]
  },
  {
   "cell_type": "code",
   "execution_count": 48,
   "metadata": {},
   "outputs": [],
   "source": [
    "param, _ = curve_fit(linear, x, y, p0 = (2,2))"
   ]
  },
  {
   "cell_type": "markdown",
   "metadata": {},
   "source": [
    "Så for at vise det skriver vi `linear(x, *param)`, for at give dataen og parameterne, hvis vi gerne vil bruge en højere opløsning kan vi genere et array istedet for `x` med f.eks. `np.linspace`, også printer vi `param` for at se hvad parameterne er."
   ]
  },
  {
   "cell_type": "code",
   "execution_count": 50,
   "metadata": {},
   "outputs": [
    {
     "name": "stdout",
     "output_type": "stream",
     "text": [
      "[1.56990602 1.9738324 ]\n"
     ]
    },
    {
     "data": {
      "image/png": "[encoded data removed]",
      "text/plain": [
       "<Figure size 640x480 with 1 Axes>"
      ]
     },
     "metadata": {},
     "output_type": "display_data"
    }
   ],
   "source": [
    "plt.plot(x, y, 'o', label = 'punkter')\n",
    "plt.plot(x, linear(x, *param), label = 'linear')\n",
    "plt.legend()\n",
    "print(param)"
   ]
  },
  {
   "cell_type": "markdown",
   "metadata": {},
   "source": [
    "Hvis du gerne vil begrænse hvilket område den kigger på kan du bruge `bounds`, hvor du giver alle mindste i parateser og derefter alle øvre, så f.eks. hvis vi ville begrænse, så her er et ekspelm hvor `a` er mellem 0 og 1 og `b` er mellem 0 og 2, som ikke giver et godt fit men det kan hjælpe den med at finde det rigtige da det ikke altid er sikkert"
   ]
  },
  {
   "cell_type": "code",
   "execution_count": 54,
   "metadata": {},
   "outputs": [
    {
     "name": "stdout",
     "output_type": "stream",
     "text": [
      "[1. 2.]\n"
     ]
    },
    {
     "data": {
      "image/png": "[encoded data removed]",
      "text/plain": [
       "<Figure size 640x480 with 1 Axes>"
      ]
     },
     "metadata": {},
     "output_type": "display_data"
    }
   ],
   "source": [
    "param, _ = curve_fit(linear, x, y, p0 = (1,1), bounds=((0,0),(1,2)))\n",
    "plt.plot(x, y, 'o', label = 'punkter')\n",
    "plt.plot(x, linear(x, *param), label = 'linear')\n",
    "plt.legend()\n",
    "print(param)"
   ]
  },
  {
   "cell_type": "markdown",
   "metadata": {},
   "source": [
    "#### Opgaver"
   ]
  },
  {
   "cell_type": "code",
   "execution_count": 55,
   "metadata": {},
   "outputs": [],
   "source": [
    "x = np.random.rand(1000)*10\n",
    "y = np.random.rand(1000) * 2 * x**2 + np.random.rand(1000)"
   ]
  },
  {
   "cell_type": "markdown",
   "metadata": {},
   "source": [
    "Prøv at fitte ligningen $ax+b$"
   ]
  },
  {
   "cell_type": "code",
   "execution_count": null,
   "metadata": {},
   "outputs": [],
   "source": []
  },
  {
   "cell_type": "markdown",
   "metadata": {},
   "source": [
    "Prøv at fitte ligningen $a*x^2+b$"
   ]
  },
  {
   "cell_type": "code",
   "execution_count": null,
   "metadata": {},
   "outputs": [],
   "source": []
  }
 ],
 "metadata": {
  "kernelspec": {
   "display_name": "Python 3",
   "language": "python",
   "name": "python3"
  },
  "language_info": {
   "codemirror_mode": {
    "name": "ipython",
    "version": 3
   },
   "file_extension": ".py",
   "mimetype": "text/x-python",
   "name": "python",
   "nbconvert_exporter": "python",
   "pygments_lexer": "ipython3",
   "version": "3.11.8"
  }
 },
 "nbformat": 4,
 "nbformat_minor": 2
}
